{
 "cells": [
  {
   "cell_type": "code",
   "execution_count": 1,
   "metadata": {},
   "outputs": [
    {
     "data": {
      "text/plain": [
       "'google'"
      ]
     },
     "execution_count": 1,
     "metadata": {},
     "output_type": "execute_result"
    }
   ],
   "source": [
    "# Question 1 : Assuming that we have some email addresses in the \"username@companyname.com\" format, please \n",
    "# write a program to print the company name of a given email address. Both user names and company\n",
    "# names are composed of letters only.\n",
    "\n",
    "def extract_company(email):\n",
    "    return email.split('@')[-1].split('.')[0]\n",
    "extract_company(\"nnish1611@google.com\")"
   ]
  },
  {
   "cell_type": "code",
   "execution_count": 2,
   "metadata": {},
   "outputs": [
    {
     "name": "stdout",
     "output_type": "stream",
     "text": [
      "['bag', 'hello', 'without', 'world']\n"
     ]
    }
   ],
   "source": [
    "# Question 2 : Write a program that accepts a comma-separated sequence of words as input and prints the words in a\n",
    "# comma-separated sequence after sorting them alphabetically.\n",
    "# Input Format:\n",
    "# The first line of input contains words separated by the comma.\n",
    "# Output Format:\n",
    "# Print the sorted words separated by the comma.\n",
    "# Example:\n",
    "# Input:\n",
    "# without,hello,bag,world\n",
    "# Output:\n",
    "# bag,hello,without,world\n",
    "\n",
    "a = (\"without\",\"hello\",\"bag\",\"world\")\n",
    "x = sorted(a)\n",
    "print(x)"
   ]
  },
  {
   "cell_type": "code",
   "execution_count": 3,
   "metadata": {},
   "outputs": [
    {
     "name": "stdout",
     "output_type": "stream",
     "text": [
      "{'banana', 'orange', 'apple', 'cherry'}\n",
      "banana\n",
      "orange\n",
      "apple\n",
      "cherry\n",
      "True\n"
     ]
    }
   ],
   "source": [
    "# Question 3: Create your own Jupyter Notebook for Sets. Reference link:\n",
    "# https://www.w3schools.com/python/python_sets.asp\n",
    "\n",
    "# Set: A set is a collection which is unordered and unindexed. In Python, sets are written with curly brackets.\n",
    "\n",
    "# Example\n",
    "# Create a Set:\n",
    "\n",
    "seta = {\"orange\",\"apple\", \"banana\", \"cherry\"}\n",
    "print(seta)\n",
    "\n",
    "# Access Items: You cannot access items in a set by referring to an index or a key. \n",
    "# But you can loop through the set items using a for loop, or ask if a specified value is present in a set, by using the in keyword.\n",
    "\n",
    "seta = {\"orange\",\"apple\", \"banana\", \"cherry\"}\n",
    "for x in seta:\n",
    "  print(x)\n",
    "\n",
    "# Example : Check if \"banana\" is present in the set:\n",
    "\n",
    "seta = {\"orange\",\"apple\", \"banana\", \"cherry\"}\n",
    "print(\"banana\" in seta)"
   ]
  },
  {
   "cell_type": "code",
   "execution_count": 10,
   "metadata": {},
   "outputs": [
    {
     "name": "stdout",
     "output_type": "stream",
     "text": [
      "[5]\n"
     ]
    }
   ],
   "source": [
    "# Question 4: Given a list of n-1 numbers ranging from 1 to n, your task is to find the missing number. There are no\n",
    "# duplicates.\n",
    "\n",
    "x = \"1 2 4 6 3 7 8\"\n",
    "\n",
    "def remove_spaces(x):\n",
    "  x = x.replace(' ',',')\n",
    "  return x\n",
    "    \n",
    "y = (remove_spaces(x))\n",
    "\n",
    "def Convert(string): \n",
    "    li = list(string.split(\" \")) \n",
    "    return li\n",
    "\n",
    "y = '1,2,4,6,3,7,8'\n",
    "Convert(y)\n",
    "\n",
    "def find_missing(y): \n",
    "    return [x for x in range(y[0], y[-1]+1)  \n",
    "                               if x not in y]\n",
    "y = [1,2,4,6,3,7,8] \n",
    "print(find_missing(y))"
   ]
  },
  {
   "cell_type": "code",
   "execution_count": 11,
   "metadata": {},
   "outputs": [
    {
     "name": "stdout",
     "output_type": "stream",
     "text": [
      "[12, 24, 35, 88, 120, 155]\n"
     ]
    }
   ],
   "source": [
    "# Question 5: With a given list L, write a program to print this list L after removing all duplicate values with original order\n",
    "# reserved.\n",
    "\n",
    "l = [12, 24, 35, 24, 88, 120, 155, 88, 120, 155]\n",
    "res = [] \n",
    "for i in l:\n",
    "    if i not in res:\n",
    "        res.append(i)\n",
    "print (res)"
   ]
  },
  {
   "cell_type": "code",
   "execution_count": null,
   "metadata": {},
   "outputs": [],
   "source": []
  }
 ],
 "metadata": {
  "kernelspec": {
   "display_name": "Python 3",
   "language": "python",
   "name": "python3"
  },
  "language_info": {
   "codemirror_mode": {
    "name": "ipython",
    "version": 3
   },
   "file_extension": ".py",
   "mimetype": "text/x-python",
   "name": "python",
   "nbconvert_exporter": "python",
   "pygments_lexer": "ipython3",
   "version": "3.8.3"
  }
 },
 "nbformat": 4,
 "nbformat_minor": 4
}
