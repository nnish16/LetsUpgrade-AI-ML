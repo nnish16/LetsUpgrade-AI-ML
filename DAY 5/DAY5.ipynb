{
 "cells": [
  {
   "cell_type": "markdown",
   "metadata": {},
   "source": [
    "# Q1 WAP to find the first 20 non-even prime natural numbers."
   ]
  },
  {
   "cell_type": "code",
   "execution_count": 3,
   "metadata": {},
   "outputs": [
    {
     "name": "stdout",
     "output_type": "stream",
     "text": [
      "First 20 non-even prime natural numbers are: \n",
      "3 5 7 11 13 17 19 23 29 31 37 41 43 47 53 59 61 67 71 73\n"
     ]
    }
   ],
   "source": [
    "print(f'First 20 non-even prime natural numbers are: ')\n",
    "num = 2\n",
    "odd_prime = []\n",
    "while len(odd_prime) != 20:\n",
    "    if num % 2 != 0:\n",
    "        for i in range(2, num//2 + 2):\n",
    "            if num % i == 0:\n",
    "                break\n",
    "            elif i == num//2 + 1:\n",
    "                odd_prime.append(num)\n",
    "    num += 1\n",
    "print(*odd_prime)"
   ]
  },
  {
   "cell_type": "markdown",
   "metadata": {},
   "source": [
    "# Q2 WAP to implement 15 functions of string."
   ]
  },
  {
   "cell_type": "code",
   "execution_count": 22,
   "metadata": {
    "scrolled": true
   },
   "outputs": [
    {
     "name": "stdout",
     "output_type": "stream",
     "text": [
      "len(): 21\n",
      "title(): Hello Let'S Upgraders\n",
      "lower(): hello let's upgraders\n",
      "upper(): HELLO LET'S UPGRADERS\n",
      "swapcase(): hELLO lET'S uPGRADERS\n",
      "casefold(): hello let's upgraders\n",
      "replace(): Hello Let'z Upgraderz\n",
      "join(): Hello_Let's_Upgraders\n",
      "split(): ['Hello', \"Let's\", 'Upgraders']\n",
      "find(): 12\n",
      "count(): 3\n",
      "partition(): ('Hello', ' ', \"Let's Upgraders\")\n",
      "islower(): False\n",
      "center(): Hello Let's Upgraders\n",
      "isalpha(): False\n"
     ]
    }
   ],
   "source": [
    "txt = \"Hello Let's Upgraders\"\n",
    "\n",
    "print(f'len(): {len(txt)}')\n",
    "print(f'title(): {txt.title()}')\n",
    "print(f'lower(): {txt.lower()}')\n",
    "print(f'upper(): {txt.upper()}')\n",
    "print(f'swapcase(): {txt.swapcase()}')\n",
    "print(f'casefold(): {txt.casefold()}')\n",
    "print(f'replace(): {txt.replace(\"s\", \"z\")}')\n",
    "print(f'join(): {\"_\".join(txt.split())}')\n",
    "print(f'split(): {txt.split()}')\n",
    "print(f'find(): {txt.find(\"Up\")}')\n",
    "print(f'count(): {txt.count(\"e\")}')\n",
    "print(f'partition(): {txt.partition(\" \")}')\n",
    "print(f'islower(): {txt.islower()}')\n",
    "print(f'center(): {txt.center(20, \"_\")}')\n",
    "print(f'isalpha(): {txt.isalpha()}')"
   ]
  },
  {
   "cell_type": "markdown",
   "metadata": {},
   "source": [
    "# WAP to check if the given string is a Palindrome or Anagram or None of them. Display the message accordingly to the user."
   ]
  },
  {
   "cell_type": "code",
   "execution_count": 14,
   "metadata": {},
   "outputs": [
    {
     "name": "stdout",
     "output_type": "stream",
     "text": [
      "'maam' is Palindrome\n",
      "'palindrome' and 'romepladin' are Anagram\n",
      "'soap' and 'pause' are neither Anagram nor Palindrome\n"
     ]
    }
   ],
   "source": [
    "def check(txt, txt2):\n",
    "    if txt == txt[::-1]:\n",
    "        print(f\"\\'{txt}\\' is Palindrome\")\n",
    "    elif sorted(txt) == sorted(txt2.lower().replace(' ', '')):\n",
    "        print(f\"\\'{txt}\\' and \\'{txt2}\\' are Anagram\")\n",
    "    else:\n",
    "        print(f\"\\'{txt}\\' and \\'{txt2}\\' are neither Anagram nor Palindrome\")\n",
    "\n",
    "\n",
    "check('maam', 'madam')\n",
    "check('palindrome', 'romepladin')\n",
    "check('soap', 'pause')"
   ]
  },
  {
   "cell_type": "markdown",
   "metadata": {},
   "source": [
    "# WAP user-defined function that removes all the additional characters from the string and convert it finally to lower case using built-in lower(). eg: If the string is \"Dr. Darshan Ingle @AIML Trainer\",then the output be \"drdarshaningleaimltrainer\"."
   ]
  },
  {
   "cell_type": "code",
   "execution_count": 20,
   "metadata": {},
   "outputs": [
    {
     "name": "stdout",
     "output_type": "stream",
     "text": [
      "drdarshaningleaimltrainer"
     ]
    }
   ],
   "source": [
    "string = 'Dr. Darshan Ingle @AI-ML Trainer'\n",
    "\n",
    "\n",
    "def remover(txt):\n",
    "    for i in txt.lower():\n",
    "        if i.isalpha():\n",
    "            print(i, end='')\n",
    "remover(string)"
   ]
  }
 ],
 "metadata": {
  "kernelspec": {
   "display_name": "Python 3",
   "language": "python",
   "name": "python3"
  },
  "language_info": {
   "codemirror_mode": {
    "name": "ipython",
    "version": 3
   },
   "file_extension": ".py",
   "mimetype": "text/x-python",
   "name": "python",
   "nbconvert_exporter": "python",
   "pygments_lexer": "ipython3",
   "version": "3.8.3"
  }
 },
 "nbformat": 4,
 "nbformat_minor": 4
}
