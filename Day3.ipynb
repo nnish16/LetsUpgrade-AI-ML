{
 "cells": [
  {
   "cell_type": "markdown",
   "metadata": {},
   "source": [
    "# Q1) WAP to subtract two complex nos"
   ]
  },
  {
   "cell_type": "code",
   "execution_count": null,
   "metadata": {},
   "outputs": [],
   "source": [
    "a = 16+11j\n",
    "b = 7+6j\n",
    "print(f'The subtraction of complex nos {a} & {b} is {a-b}')"
   ]
  },
  {
   "cell_type": "markdown",
   "metadata": {},
   "source": [
    "# Q2) WAP to find the fourth root of a no"
   ]
  },
  {
   "cell_type": "code",
   "execution_count": 2,
   "metadata": {},
   "outputs": [
    {
     "name": "stdout",
     "output_type": "stream",
     "text": [
      "Fourth root of 81 is 3\n"
     ]
    }
   ],
   "source": [
    "a = 81\n",
    "print(f'Fourth root of {a} is {int(a**(1/4))}')\n"
   ]
  },
  {
   "cell_type": "markdown",
   "metadata": {},
   "source": [
    "# Q3) WAP to swap two numbes in Python with the help of temp var"
   ]
  },
  {
   "cell_type": "code",
   "execution_count": null,
   "metadata": {},
   "outputs": [],
   "source": [
    "x = 16\n",
    "y = 11\n",
    "print(f'Before swap\\n x = {x}\\n y = {y}')\n",
    "temp = x  #temp var\n",
    "x = y\n",
    "y = temp\n",
    "print(f'After swap\\n x = {x}\\n y = {y}')"
   ]
  },
  {
   "cell_type": "markdown",
   "metadata": {},
   "source": [
    "# Q4) WAP to swap two numbes in Python without using a temp var"
   ]
  },
  {
   "cell_type": "code",
   "execution_count": null,
   "metadata": {},
   "outputs": [],
   "source": [
    "x = 11\n",
    "y = 16\n",
    "print(f'Before swap\\n x = {x}\\n y = {y}')\n",
    "x, y = y, x\n",
    "print(f'After swap\\n x = {x}\\n y = {y}')"
   ]
  },
  {
   "cell_type": "markdown",
   "metadata": {},
   "source": [
    "# 5) WAP to convert fahrenheit to kelvin and celsius both"
   ]
  },
  {
   "cell_type": "code",
   "execution_count": 6,
   "metadata": {},
   "outputs": [
    {
     "name": "stdout",
     "output_type": "stream",
     "text": [
      "32°F is equal to 0.00°C and 273.15K\n"
     ]
    }
   ],
   "source": [
    "F = 32\n",
    "C = (F-32)/1.8  #fromula\n",
    "K = C + 273.15  #formula\n",
    "\n",
    "print(f'{F}°F is equal to {C:.2f}°C and {k:.2f}K')"
   ]
  },
  {
   "cell_type": "markdown",
   "metadata": {},
   "source": [
    "# 6) WAP to demonstrate all the available data types in Python\n"
   ]
  },
  {
   "cell_type": "code",
   "execution_count": 8,
   "metadata": {
    "scrolled": true
   },
   "outputs": [
    {
     "name": "stdout",
     "output_type": "stream",
     "text": [
      "<class 'int'>\n",
      "<class 'float'>\n",
      "<class 'str'>\n",
      "<class 'complex'>\n",
      "<class 'list'>\n",
      "<class 'tuple'>\n",
      "<class 'dict'>\n",
      "<class 'set'>\n",
      "<class 'bool'>\n",
      "<class 'range'>\n",
      "<class 'frozenset'>\n",
      "<class 'bytes'>\n",
      "<class 'bytearray'>\n"
     ]
    }
   ],
   "source": [
    "a=16\n",
    "print(type(a))\n",
    "\n",
    "b = 70.6\n",
    "print(type(b))\n",
    "\n",
    "c = 'abcd'\n",
    "print(type(c))\n",
    "\n",
    "d = 16 + 11j\n",
    "print(type(d))\n",
    "\n",
    "e = [1,2,3,4,5,'a','b']\n",
    "print(type(e))\n",
    "\n",
    "f = (1,2,3,4,5,'a','b')\n",
    "print(type(f))\n",
    "\n",
    "g = {'test1': 20, 'test2': 50}\n",
    "print(type(g))\n",
    "\n",
    "h = {'test1', 'test2'}\n",
    "print(type(h))\n",
    "\n",
    "i = True  #or False\n",
    "print(type(i))\n",
    "\n",
    "j = range(10)\n",
    "print(type(j))\n",
    "\n",
    "k = frozenset({\"a\", \"b\", \"c\"})\n",
    "print(type(k))\n",
    "\n",
    "l = b'qwerty'\n",
    "print(type(l))\n",
    "\n",
    "m = bytearray(10)\n",
    "print(type(m))\n",
    "\n"
   ]
  },
  {
   "cell_type": "markdown",
   "metadata": {},
   "source": []
  }
 ],
 "metadata": {
  "kernelspec": {
   "display_name": "Python 3",
   "language": "python",
   "name": "python3"
  },
  "language_info": {
   "codemirror_mode": {
    "name": "ipython",
    "version": 3
   },
   "file_extension": ".py",
   "mimetype": "text/x-python",
   "name": "python",
   "nbconvert_exporter": "python",
   "pygments_lexer": "ipython3",
   "version": "3.8.3"
  }
 },
 "nbformat": 4,
 "nbformat_minor": 4
}
