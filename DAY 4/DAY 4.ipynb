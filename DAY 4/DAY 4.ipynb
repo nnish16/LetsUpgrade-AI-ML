{
 "cells": [
  {
   "cell_type": "markdown",
   "metadata": {},
   "source": [
    "# Q1) Research on whether addition, subtraction, multiplicatio, division, floor division and modulo operations be performed on complex numbers. Based on your study, implement a python program to demonstrate these operations"
   ]
  },
  {
   "cell_type": "code",
   "execution_count": 3,
   "metadata": {},
   "outputs": [
    {
     "name": "stdout",
     "output_type": "stream",
     "text": [
      "Addition of (11+16j) and (11+16j) complex numbers : (22+32j)\n",
      "Subtraction of (11+16j) and (11+16j) complex numbers : 0j\n",
      "Multiplication of (11+16j) and (11+16j) complex numbers : (-135+352j)\n",
      "Division of (11+16j) and (11+16j) complex numbers : (1+0j)\n",
      "\n",
      "Floor division and modulo operations cannot be performed on complex number\n"
     ]
    }
   ],
   "source": [
    "num1 = 11 + 16j\n",
    "num2 = 11 + 16j\n",
    "\n",
    "print(f\"Addition of {num1} and {num2} complex numbers : {num1+num2}\")\n",
    "print(f\"Subtraction of {num1} and {num2} complex numbers : {num1-num2}\")\n",
    "print(f\"Multiplication of {num1} and {num2} complex numbers : {num1*num2}\")\n",
    "print(f\"Division of {num1} and {num2} complex numbers : {num1/num2}\")\n",
    "# print(f\"Floor Division of {num1} and {num2} complex numbers : {num1//num2}\")\n",
    "# print(f\"Modulo of {num1} and {num2} complex numbers : {num1%num2}\")\n",
    "print('\\nFloor division and modulo operations cannot be performed on complex number')\n"
   ]
  },
  {
   "cell_type": "markdown",
   "metadata": {},
   "source": [
    "# Q2) Research on range() function and its parameters. Create a markdown cell and write in you own words (no copy-paste from google please) what you understand about it. Implement a small program of your choice on the same."
   ]
  },
  {
   "cell_type": "markdown",
   "metadata": {},
   "source": [
    "Explaination or pseudocode:\n",
    "range(start, stop ,step)\n",
    "    start: starting no / lower limit\n",
    "    stop: ending no / upper  limit(the end no is excluded)\n",
    "    step: it is the difference between each number in the result \n",
    "            sequence"
   ]
  },
  {
   "cell_type": "code",
   "execution_count": 5,
   "metadata": {},
   "outputs": [
    {
     "name": "stdout",
     "output_type": "stream",
     "text": [
      "Generating a range of numbers from 0 to 50 divisible by 3 using range() function.\n",
      "3\n",
      "6\n",
      "9\n",
      "12\n",
      "15\n",
      "18\n",
      "21\n",
      "24\n",
      "27\n",
      "30\n",
      "33\n",
      "36\n",
      "39\n",
      "42\n",
      "45\n",
      "48\n"
     ]
    }
   ],
   "source": [
    "print(\"Generating a range of numbers from 0 to 50 divisible by 3 using range() function.\")\n",
    "for i in range(3, 50, 3):\n",
    "    print(i)"
   ]
  },
  {
   "cell_type": "markdown",
   "metadata": {},
   "source": [
    "# Q3) Consider two numbers. Perform their subtraction and if result of subtraction is greater than 25, print their multiplication result else print their divisin result"
   ]
  },
  {
   "cell_type": "code",
   "execution_count": 6,
   "metadata": {},
   "outputs": [
    {
     "name": "stdout",
     "output_type": "stream",
     "text": [
      "Multiplication of 706 and 161 is 113666\n"
     ]
    }
   ],
   "source": [
    "num1 = 706\n",
    "num2 = 161\n",
    "\n",
    "if num1 - num2 > 25:\n",
    "    print(f\"Multiplication of {num1} and {num2} is {num1 * num2}\")\n",
    "else:\n",
    "    print(f\"Division of {num1} and {num2} is {num1 / num2}\")"
   ]
  },
  {
   "cell_type": "markdown",
   "metadata": {},
   "source": [
    "# Q4) Consider a list of 10 elements of integer values. if the number in the list is divisible by 2, print the result as \"square of that number minus 2\""
   ]
  },
  {
   "cell_type": "code",
   "execution_count": 7,
   "metadata": {},
   "outputs": [
    {
     "name": "stdout",
     "output_type": "stream",
     "text": [
      "Square of 2 minus 2 is: 2\n",
      "Square of 4 minus 2 is: 14\n",
      "Square of 6 minus 2 is: 34\n",
      "Square of 8 minus 2 is: 62\n",
      "Square of 10 minus 2 is: 98\n"
     ]
    }
   ],
   "source": [
    "lst = [1, 2, 3, 4, 5, 6, 7, 8, 9, 10]\n",
    "for i in lst:\n",
    "    if i % 2 == 0:\n",
    "        print(f\"Square of {i} minus 2 is: {i**2-2}\")"
   ]
  },
  {
   "cell_type": "markdown",
   "metadata": {},
   "source": [
    "# Q5) Consider a list of 10 elements. Print all the elements in the list which are greater than 7 when that number is divided by 2"
   ]
  },
  {
   "cell_type": "code",
   "execution_count": 8,
   "metadata": {},
   "outputs": [
    {
     "name": "stdout",
     "output_type": "stream",
     "text": [
      "Elements in the list which are greater than 7 when that number is divided by 2: \n",
      "63\n",
      "21\n",
      "91\n",
      "35\n",
      "20\n",
      "41\n",
      "21\n"
     ]
    }
   ],
   "source": [
    "lst = [63, 21, 4, 91, 35, 20, 41, 12, 14, 21]\n",
    "print(\"Elements in the list which are greater than 7 when that number is divided by 2: \")\n",
    "for i in lst:\n",
    "    if i/2 > 7:\n",
    "        print(i)"
   ]
  }
 ],
 "metadata": {
  "kernelspec": {
   "display_name": "Python 3",
   "language": "python",
   "name": "python3"
  },
  "language_info": {
   "codemirror_mode": {
    "name": "ipython",
    "version": 3
   },
   "file_extension": ".py",
   "mimetype": "text/x-python",
   "name": "python",
   "nbconvert_exporter": "python",
   "pygments_lexer": "ipython3",
   "version": "3.8.3"
  }
 },
 "nbformat": 4,
 "nbformat_minor": 4
}
